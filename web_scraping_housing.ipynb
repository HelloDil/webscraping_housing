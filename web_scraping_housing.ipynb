{
  "nbformat": 4,
  "nbformat_minor": 0,
  "metadata": {
    "colab": {
      "provenance": []
    },
    "kernelspec": {
      "name": "python3",
      "display_name": "Python 3"
    },
    "language_info": {
      "name": "python"
    }
  },
  "cells": [
    {
      "cell_type": "code",
      "execution_count": 28,
      "metadata": {
        "id": "hkd451tVyO4h"
      },
      "outputs": [],
      "source": [
        "from bs4 import BeautifulSoup\n",
        "import requests\n",
        "from csv import writer"
      ]
    },
    {
      "cell_type": "code",
      "source": [
        "url= \"https://www.pararius.com/apartments/amsterdam?ac=1\"\n",
        "page = requests.get(url)\n",
        "print(page)"
      ],
      "metadata": {
        "colab": {
          "base_uri": "https://localhost:8080/"
        },
        "id": "5LJ_7-2ny7D8",
        "outputId": "1889d5d1-6862-4d70-a689-54fa5d7acbbc"
      },
      "execution_count": 29,
      "outputs": [
        {
          "output_type": "stream",
          "name": "stdout",
          "text": [
            "<Response [200]>\n"
          ]
        }
      ]
    },
    {
      "cell_type": "code",
      "source": [
        "soup = BeautifulSoup(page.content, 'html.parser')\n",
        "lists = soup.find_all('section', class_=\"listing-search-item\")\n"
      ],
      "metadata": {
        "id": "vBzpuE7nzt6B"
      },
      "execution_count": 30,
      "outputs": []
    },
    {
      "cell_type": "code",
      "source": [
        "with open('housing.csv', 'w', encoding='utf8', newline='') as f:\n",
        "    thewriter = writer(f)\n",
        "    header = ['Title', 'Location', 'Price', 'Area']\n",
        "    thewriter.writerow(header)"
      ],
      "metadata": {
        "id": "ktwZfxvJDH-K"
      },
      "execution_count": 31,
      "outputs": []
    },
    {
      "cell_type": "code",
      "source": [
        "for list in lists:\n",
        "        title = list.find('a', class_=\"listing-search-item__link--title\").text.replace('\\n', '')\n",
        "        location = list.find('div', class_=\"listing-search-item__sub-title\").text.replace('\\n', '')\n",
        "        price = list.find('div', class_=\"listing-search-item__price\").text.replace('\\n', '')\n",
        "        area = list.find('li', class_=\"illustrated-features__item illustrated-features__item--surface-area\").text.replace('\\n', '')\n",
        "        \n",
        "        info = [title, location, price, area]\n",
        "        print(info)\n",
        "        #thewriter.writerow(info)"
      ],
      "metadata": {
        "colab": {
          "base_uri": "https://localhost:8080/"
        },
        "id": "rC-0kB7M3C9e",
        "outputId": "eab5411b-8f93-4f57-9f0f-2f97eac80340"
      },
      "execution_count": 33,
      "outputs": [
        {
          "output_type": "stream",
          "name": "stdout",
          "text": [
            "['                        Apartment IJburglaan                            ', '            1087 EN Amsterdam (IJburg West)        ', '                €2,500 per month            ', '96 m²']\n",
            "['                        Apartment Kerkstraat                            ', '            1017 HW Amsterdam (Grachtengordel-Zuid)        ', '                €5,000 per month            ', '120 m²']\n",
            "['                        Apartment Pijlsteeg 6                            ', '            1012 HH Amsterdam (Burgwallen-Oude Zijde)        ', '                €2,250 per month            ', '60 m²']\n",
            "['                        Apartment Céramiquelaan 211                            ', '            1031 KG Amsterdam (Noordelijke IJ-oevers West)        ', '                €15,000 per month            ', '250 m²']\n",
            "['                        Apartment Tweede Goudsbloemdwarsstraat 26 1                            ', '            1015 JZ Amsterdam (Jordaan)        ', '                €1,975 per month            ', '70 m²']\n",
            "['                        Apartment Stadionweg                            ', '            1077 TA Amsterdam (Apollobuurt)        ', '                €3,000 per month            ', '120 m²']\n",
            "['                        Apartment Slijterstraat 27                            ', '            1019 VN Amsterdam (Oostelijk Havengebied)        ', '                €2,000 per month            ', '65 m²']\n",
            "['                        Apartment Frans Halsstraat 89 3                            ', '            1072 BP Amsterdam (Oude Pijp)        ', '                €2,250 per month            ', '70 m²']\n",
            "['                        Apartment Van Leijenberghlaan                            ', '            1082 DC Amsterdam (Buitenveldert-West)        ', '                €2,000 per month            ', '120 m²']\n",
            "['                        Apartment Groenburgwal                            ', '            1011 HT Amsterdam (Nieuwmarkt/Lastage)        ', '                €1,800 per month            ', '52 m²']\n",
            "['                        Apartment Daniël Stalpertstraat                            ', '            1072 XA Amsterdam (Oude Pijp)        ', '                €2,250 per month            ', '80 m²']\n",
            "['                        Apartment Rhijnvis Feithstraat 24 E                            ', '            1054 TX Amsterdam (Overtoomse Sluis)        ', '                €2,500 per month            ', '52 m²']\n",
            "['                        Apartment Amstel                            ', '            1017 AC Amsterdam (Grachtengordel-Zuid)        ', '                €3,250 per month            ', '144 m²']\n",
            "['                        Apartment Elisabeth Wolffstraat                            ', '            1052 RP Amsterdam (Kinkerbuurt)        ', '                €2,150 per month            ', '55 m²']\n",
            "['                        Apartment Elisabeth Wolffstraat                            ', '            1052 RP Amsterdam (Kinkerbuurt)        ', '                €1,900 per month            ', '51 m²']\n",
            "['                        Apartment Rhijnvis Feithstraat                            ', '            1054 TT Amsterdam (Overtoomse Sluis)        ', '                €1,875 per month            ', '54 m²']\n",
            "['                        Apartment Van Boetzelaerstraat                            ', '            1051 CX Amsterdam (Staatsliedenbuurt)        ', '                €1,650 per month            ', '44 m²']\n",
            "['                        Apartment Jan Bernardusstraat                            ', '            1091 TR Amsterdam (Weesperzijde)        ', '                €2,100 per month            ', '55 m²']\n",
            "['                        Apartment Stadionkade                            ', '            1076 BJ Amsterdam (Stadionbuurt)        ', '                €2,975 per month            ', '100 m²']\n",
            "['                        Apartment Oude Leliestraat 6                            ', '            1015 AW Amsterdam (Grachtengordel-West)        ', '                €2,300 per month            ', '75 m²']\n",
            "['                        Apartment Westerstraat                            ', '            1015 LW Amsterdam (Jordaan)        ', '                €1,900 per month            ', '49 m²']\n",
            "['                        Apartment Nieuwezijds Voorburgwal                            ', '            1012 RZ Amsterdam (Burgwallen-Nieuwe Zijde)        ', '                €2,150 per month            ', '60 m²']\n",
            "['                        Apartment Tweede Nassaustraat                            ', '            1052 BJ Amsterdam (Staatsliedenbuurt)        ', '                €1,250 per month            ', '28 m²']\n",
            "['                        Apartment Legmeerstraat 24 1                            ', '            1058 NE Amsterdam (Hoofddorppleinbuurt)        ', '                €1,650 per month            ', '54 m²']\n",
            "['                        Apartment Chet Bakerstraat 117                            ', '            1066 GJ Amsterdam (Sloter-/Riekerpolder)        ', '                €1,995 per month            ', '95 m²']\n",
            "['                        Apartment Govert Flinckstraat                            ', '            1072 EH Amsterdam (Oude Pijp)        ', '                €2,300 per month            ', '55 m²']\n",
            "['                        Apartment Eerste Van Swindenstraat 76 H                            ', '            1093 GH Amsterdam (Dapperbuurt)        ', '                €2,300 per month            ', '59 m²']\n",
            "['                        Apartment Sarphatistraat                            ', '            1018 GK Amsterdam (Weesperbuurt/Plantage)        ', '                €2,350 per month            ', '61 m²']\n",
            "['                        Apartment Amstelveenseweg                            ', '            1081 JD Amsterdam (Buitenveldert-West)        ', '                €1,750 per month            ', '60 m²']\n",
            "['                        House Jan Hanzenstraat 127                            ', '            1053 SP Amsterdam (Kinkerbuurt)        ', '                €2,550 per month            ', '60 m²']\n"
          ]
        }
      ]
    }
  ]
}